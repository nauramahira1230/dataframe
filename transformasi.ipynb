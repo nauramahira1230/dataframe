{
 "cells": [
  {
   "cell_type": "code",
   "execution_count": 3,
   "metadata": {},
   "outputs": [
    {
     "ename": "ModuleNotFoundError",
     "evalue": "No module named 'numpy'",
     "output_type": "error",
     "traceback": [
      "\u001b[1;31m---------------------------------------------------------------------------\u001b[0m",
      "\u001b[1;31mModuleNotFoundError\u001b[0m                       Traceback (most recent call last)",
      "Cell \u001b[1;32mIn[3], line 1\u001b[0m\n\u001b[1;32m----> 1\u001b[0m \u001b[38;5;28;01mimport\u001b[39;00m \u001b[38;5;21;01mnumpy\u001b[39;00m \u001b[38;5;28;01mas\u001b[39;00m \u001b[38;5;21;01mnp\u001b[39;00m\n\u001b[0;32m      2\u001b[0m \u001b[38;5;28;01mimport\u001b[39;00m \u001b[38;5;21;01mmatplotlib\u001b[39;00m\u001b[38;5;21;01m.\u001b[39;00m\u001b[38;5;21;01mpyplot\u001b[39;00m \u001b[38;5;28;01mas\u001b[39;00m \u001b[38;5;21;01mplt\u001b[39;00m\n\u001b[0;32m      4\u001b[0m \u001b[38;5;66;03m# Titik awal objek (segitiga sebagai contoh)\u001b[39;00m\n",
      "\u001b[1;31mModuleNotFoundError\u001b[0m: No module named 'numpy'"
     ]
    }
   ],
   "source": [
    "import numpy as np\n",
    "import matplotlib.pyplot as plt\n",
    "\n",
    "# Titik awal objek (segitiga sebagai contoh)\n",
    "original_points = np.array([\n",
    "    [0, 0],  # Titik A\n",
    "    [2, 0],  # Titik B\n",
    "    [1, 2],  # Titik C\n",
    "    [0, 0]   # Tutup loop ke A\n",
    "])\n",
    "\n",
    "# Translasi\n",
    "translation_vector = np.array([3, 2])  # Pergeseran 3 unit X, 2 unit Y\n",
    "translated_points = original_points + translation_vector\n",
    "\n",
    "# Refleksi terhadap sumbu X\n",
    "reflected_points = original_points * np.array([1, -1])\n",
    "\n",
    "# Plot hasil\n",
    "plt.figure(figsize=(8, 8))\n",
    "\n",
    "# Plot objek asli\n",
    "plt.plot(original_points[:, 0], original_points[:, 1], label='Original', marker='o')\n",
    "\n",
    "# Plot translasi\n",
    "plt.plot(translated_points[:, 0], translated_points[:, 1], label='Translated', marker='o')\n",
    "\n",
    "# Plot refleksi\n",
    "plt.plot(reflected_points[:, 0], reflected_points[:, 1], label='Reflected (X-axis)', marker='o')\n",
    "\n",
    "# Pengaturan plot\n",
    "plt.axhline(0, color='black',linewidth=0.5)\n",
    "plt.axvline(0, color='black',linewidth=0.5)\n",
    "plt.grid(color = 'gray', linestyle = '--', linewidth = 0.5)\n",
    "plt.legend()\n",
    "plt.title('2D Transformations: Translation and Reflection')\n",
    "plt.xlabel('X-axis')\n",
    "plt.ylabel('Y-axis')\n",
    "plt.axis('equal')\n",
    "\n",
    "plt.show()\n"
   ]
  }
 ],
 "metadata": {
  "kernelspec": {
   "display_name": "Python 3",
   "language": "python",
   "name": "python3"
  },
  "language_info": {
   "codemirror_mode": {
    "name": "ipython",
    "version": 3
   },
   "file_extension": ".py",
   "mimetype": "text/x-python",
   "name": "python",
   "nbconvert_exporter": "python",
   "pygments_lexer": "ipython3",
   "version": "3.12.7"
  }
 },
 "nbformat": 4,
 "nbformat_minor": 2
}
